{
 "cells": [
  {
   "cell_type": "code",
   "execution_count": null,
   "metadata": {
    "collapsed": true
   },
   "outputs": [],
   "source": [
    "/**\n",
    "隐士类型抓换\n",
    "implicit这个隐式转换是支撑scala的易用、容错以及灵活语法的基础\n",
    "\n",
    "1. 记住隐式转换函数的同一个scop中不能存在参数和返回值完全相同的2个implicit函数。\n",
    "2. 隐式转换函数只在意 输入类型，返回类型，和函数名，参数名无关。\n",
    "3. 隐式转换是scala的语法灵活和简洁的重要组成部分。\n",
    "\n",
    "4. implicit 关键字可通过两种方式使用：1、方法或变量定义；2、方法参数列表\n",
    "\n",
    "\n",
    "*/"
   ]
  },
  {
   "cell_type": "code",
   "execution_count": 1,
   "metadata": {
    "collapsed": false
   },
   "outputs": [
    {
     "data": {
      "text/plain": [
       "defined \u001b[32mfunction \u001b[36mfoo\u001b[0m"
      ]
     },
     "metadata": {},
     "output_type": "display_data"
    }
   ],
   "source": [
    "def foo(msg : String) = println(msg)\n"
   ]
  },
  {
   "cell_type": "code",
   "execution_count": 2,
   "metadata": {
    "collapsed": false
   },
   "outputs": [
    {
     "name": "stdout",
     "output_type": "stream",
     "text": [
      "2\n"
     ]
    },
    {
     "data": {
      "text/plain": []
     },
     "metadata": {},
     "output_type": "display_data"
    }
   ],
   "source": [
    "foo(\"2\")"
   ]
  },
  {
   "cell_type": "code",
   "execution_count": 3,
   "metadata": {
    "collapsed": false
   },
   "outputs": [
    {
     "ename": "",
     "evalue": "",
     "output_type": "error",
     "traceback": [
      "Compilation Failed",
      "\u001b[31mMain.scala:53: type mismatch;",
      " found   : Int(3)",
      " required: String",
      "foo(3)",
      "    ^\u001b[0m"
     ]
    }
   ],
   "source": [
    "foo(3)"
   ]
  },
  {
   "cell_type": "code",
   "execution_count": 4,
   "metadata": {
    "collapsed": false
   },
   "outputs": [
    {
     "data": {
      "text/plain": [
       "defined \u001b[32mfunction \u001b[36mintToString\u001b[0m"
      ]
     },
     "metadata": {},
     "output_type": "display_data"
    }
   ],
   "source": [
    "implicit def intToString(i: Int) = i.toString"
   ]
  },
  {
   "cell_type": "code",
   "execution_count": 5,
   "metadata": {
    "collapsed": false
   },
   "outputs": [
    {
     "name": "stdout",
     "output_type": "stream",
     "text": [
      "3\n"
     ]
    },
    {
     "data": {
      "text/plain": []
     },
     "metadata": {},
     "output_type": "display_data"
    }
   ],
   "source": [
    "foo(3)"
   ]
  },
  {
   "cell_type": "code",
   "execution_count": 8,
   "metadata": {
    "collapsed": false
   },
   "outputs": [
    {
     "name": "stdout",
     "output_type": "stream",
     "text": [
      "aslo can use implicit function intToString...result is 33\n"
     ]
    },
    {
     "data": {
      "text/plain": [
       "defined \u001b[32mfunction \u001b[36mbar\u001b[0m"
      ]
     },
     "metadata": {},
     "output_type": "display_data"
    }
   ],
   "source": [
    "def bar(msg : String) = println(\"aslo can use implicit function intToString...result is \"+msg)\n",
    "bar(33)"
   ]
  },
  {
   "cell_type": "code",
   "execution_count": 9,
   "metadata": {
    "collapsed": false
   },
   "outputs": [
    {
     "ename": "",
     "evalue": "",
     "output_type": "error",
     "traceback": [
      "Compilation Failed",
      "\u001b[31mMain.scala:64: type mismatch;",
      " found   : Int(33)",
      " required: String",
      "Note that implicit conversions are not applicable because they are ambiguous:",
      " both method intToString in class $user of type (i: Int)String",
      " and method int2str in class $user of type (o: Int)String",
      " are possible conversion functions from Int(33) to String",
      "bar(33)",
      "    ^\u001b[0m"
     ]
    }
   ],
   "source": [
    "/**\n",
    "    二义性的异常，说的是intToString和int2str这2个隐式函数都是可以处理bar(33)的，编译器不知道选择哪个了\n",
    "    证明了隐式函数和函数名，参数名无关，只和输入参数与返回值有关。\n",
    "*/\n",
    "\n",
    "implicit def int2str(o: Int) = o.toString\n",
    "bar(33)"
   ]
  },
  {
   "cell_type": "code",
   "execution_count": null,
   "metadata": {
    "collapsed": true
   },
   "outputs": [],
   "source": [
    "/** 隐式函数的应用\n",
    "我们可以随便的打开scala函数的一些内置定义，比如我们最常用的map函数中->符号，看起来很像php等语言。\n",
    "但实际上->确实是一个ArrowAssoc类的方法，它位于scala源码中的Predef.scala中。下面是这个类的定义：\n",
    "final class ArrowAssoc[A](val __leftOfArrow: A) extends AnyVal {  \n",
    "  // `__leftOfArrow` must be a public val to allow inlining. The val  \n",
    "  // used to be called `x`, but now goes by `__leftOfArrow`, as that  \n",
    "  // reduces the chances of a user's writing `foo.__leftOfArrow` and  \n",
    "  // being confused why they get an ambiguous implicit conversion  \n",
    "  // error. (`foo.x` used to produce this error since both  \n",
    "  // any2Ensuring and any2ArrowAssoc pimped an `x` onto everything)  \n",
    "  @deprecated(\"Use `__leftOfArrow` instead\", \"2.10.0\")  \n",
    "  def x = __leftOfArrow  \n",
    "  \n",
    "  @inline def -> [B](y: B): Tuple2[A, B] = Tuple2(__leftOfArrow, y)  \n",
    "  def →[B](y: B): Tuple2[A, B] = ->(y)  \n",
    "}  \n",
    "@inline implicit def any2ArrowAssoc[A](x: A): ArrowAssoc[A] = new ArrowAssoc(x)  \n",
    "\n",
    "\n",
    "*/\n",
    "\n",
    "我们看到def ->[B] (y :B)返回的其实是一个Tuple2[A,B]类型。\n",
    "我们定义一个Map:\n",
    "scala> val mp = Map(1->\"game1\",2->\"game_2\")  \n",
    "mp: scala.collection.immutable.Map[Int,String] = Map(1 -> game1, 2 -> game_2)  \n",
    "这里 1->\"game1\"其实是1.->(\"game_1\")的简写。\n",
    "这里怎么能让整数类型1能有->方法呢。\n",
    "这里其实any2ArrowAssoc隐式函数起作用了，这里接受的参数[A]是泛型的，所以int也不例外。\n",
    "调用的是：将整型的1 implicit转换为 ArrowAssoc(1)\n",
    "看下构造方法，将1当作__leftOfArrow传入。\n",
    "->方法的真正实现是生产一个Tuple2类型的对象(__leftOfArrow,y ) 等价于(1, \"game_id\")\n",
    "这就是一个典型的隐式转换应用。"
   ]
  }
 ],
 "metadata": {
  "kernelspec": {
   "display_name": "Scala 2.10",
   "language": "scala210",
   "name": "scala210"
  },
  "language_info": {
   "codemirror_mode": "text/x-scala",
   "file_extension": "scala",
   "mimetype": "text/x-scala",
   "name": "scala210",
   "pygments_lexer": "scala",
   "version": "2.10.5"
  }
 },
 "nbformat": 4,
 "nbformat_minor": 0
}
