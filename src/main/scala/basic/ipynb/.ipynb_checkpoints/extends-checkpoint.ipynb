{
 "cells": [
  {
   "cell_type": "code",
   "execution_count": 3,
   "metadata": {
    "collapsed": false
   },
   "outputs": [
    {
     "data": {
      "text/plain": [
       "defined \u001b[32mclass \u001b[36mPoint\u001b[0m"
      ]
     },
     "metadata": {},
     "output_type": "display_data"
    }
   ],
   "source": [
    "\n",
    "// 类继承\n",
    "\n",
    "class Point(val xc: Int, val yc: Int) {\n",
    "    var x: Int = xc\n",
    "    var y: Int = yc\n",
    "    \n",
    "    def move(dx: Int, dy: Int) {\n",
    "        x = x + dx\n",
    "        y = y + dy\n",
    "        println(\"Point x : \" + x)\n",
    "        println(\"Point y : \" + y)\n",
    "    }\n",
    "}"
   ]
  },
  {
   "cell_type": "code",
   "execution_count": 5,
   "metadata": {
    "collapsed": false
   },
   "outputs": [
    {
     "data": {
      "text/plain": [
       "defined \u001b[32mclass \u001b[36mLocation\u001b[0m"
      ]
     },
     "metadata": {},
     "output_type": "display_data"
    }
   ],
   "source": [
    "class Location(override val xc: Int, override val yc: Int, val zc: Int) extends Point(xc, yc) {\n",
    "    var z: Int = zc\n",
    "    \n",
    "    def move(dx: Int, dy: Int, dz: Int) {\n",
    "        x = x + dx\n",
    "        y = y + dy\n",
    "        z = z + dz\n",
    "        \n",
    "        println(\"Point x location: \" + x)\n",
    "        println(\"Point y location: \" + y)\n",
    "        println(\"Point z location: \" + z)\n",
    "    }\n",
    "}\n"
   ]
  },
  {
   "cell_type": "code",
   "execution_count": 6,
   "metadata": {
    "collapsed": false
   },
   "outputs": [
    {
     "data": {
      "text/plain": [
       "\u001b[36ml\u001b[0m: cmd3.INSTANCE.$ref$cmd2.Location = cmd2$$user$Location@6f077d3"
      ]
     },
     "metadata": {},
     "output_type": "display_data"
    }
   ],
   "source": [
    "val l = new Location(1, 2, 3)"
   ]
  },
  {
   "cell_type": "code",
   "execution_count": 7,
   "metadata": {
    "collapsed": false
   },
   "outputs": [
    {
     "name": "stdout",
     "output_type": "stream",
     "text": [
      "Point x location: 2\n",
      "Point y location: 3\n",
      "Point z location: 4\n"
     ]
    },
    {
     "data": {
      "text/plain": []
     },
     "metadata": {},
     "output_type": "display_data"
    }
   ],
   "source": [
    "l.move(1, 1, 1)"
   ]
  },
  {
   "cell_type": "code",
   "execution_count": 1,
   "metadata": {
    "collapsed": false
   },
   "outputs": [
    {
     "data": {
      "text/plain": [
       "defined \u001b[32mtrait \u001b[36mEqual\u001b[0m"
      ]
     },
     "metadata": {},
     "output_type": "display_data"
    }
   ],
   "source": [
    "// 特质实例\n",
    "\n",
    "// 特质封装了方法和字段的定义，被混入在类中使用。与类的继承不同，一个类只能继承一个超类，但是一个类可以实现任意数量的特质。\n",
    "//Scala允许特质特质可以同时拥有抽象方法和具体方法，但特质不应该有有参的构造器。\n",
    "\n",
    "trait Equal {\n",
    "    def isEqual(x: Any): Boolean\n",
    "    def isNotEqual(x: Any) = !isEqual(x)\n",
    "}\n",
    "\n"
   ]
  },
  {
   "cell_type": "code",
   "execution_count": 3,
   "metadata": {
    "collapsed": false
   },
   "outputs": [
    {
     "data": {
      "text/plain": [
       "defined \u001b[32mclass \u001b[36mPoint\u001b[0m"
      ]
     },
     "metadata": {},
     "output_type": "display_data"
    }
   ],
   "source": [
    "class Point(xc: Int, yc: Int) extends Equal {\n",
    "    var x: Int = xc\n",
    "    var y: Int = yc\n",
    "    \n",
    "    def isEqual(obj: Any) = obj.isInstanceOf[Point] && obj.asInstanceOf[Point].x == x\n",
    "    \n",
    "}"
   ]
  },
  {
   "cell_type": "code",
   "execution_count": 4,
   "metadata": {
    "collapsed": false
   },
   "outputs": [
    {
     "data": {
      "text/plain": [
       "\u001b[36mp1\u001b[0m: cmd2.INSTANCE.$ref$cmd1.Point = cmd1$$user$Point@6da3ca7f\n",
       "\u001b[36mp2\u001b[0m: cmd2.INSTANCE.$ref$cmd1.Point = cmd1$$user$Point@574edeee\n",
       "\u001b[36mp3\u001b[0m: cmd2.INSTANCE.$ref$cmd1.Point = cmd1$$user$Point@5631c5fc"
      ]
     },
     "metadata": {},
     "output_type": "display_data"
    }
   ],
   "source": [
    "val p1 = new Point(1, 2)\n",
    "val p2 = new Point(1, 3)\n",
    "val p3 = new Point(2, 1)"
   ]
  },
  {
   "cell_type": "code",
   "execution_count": 5,
   "metadata": {
    "collapsed": false
   },
   "outputs": [
    {
     "name": "stdout",
     "output_type": "stream",
     "text": [
      "true\n",
      "false\n"
     ]
    },
    {
     "data": {
      "text/plain": []
     },
     "metadata": {},
     "output_type": "display_data"
    }
   ],
   "source": [
    "println(p1.isEqual(p2))\n",
    "println(p1.isEqual(p3))"
   ]
  }
 ],
 "metadata": {
  "kernelspec": {
   "display_name": "Scala 2.10",
   "language": "scala210",
   "name": "scala210"
  },
  "language_info": {
   "codemirror_mode": "text/x-scala",
   "file_extension": "scala",
   "mimetype": "text/x-scala",
   "name": "scala210",
   "pygments_lexer": "scala",
   "version": "2.10.5"
  }
 },
 "nbformat": 4,
 "nbformat_minor": 0
}
