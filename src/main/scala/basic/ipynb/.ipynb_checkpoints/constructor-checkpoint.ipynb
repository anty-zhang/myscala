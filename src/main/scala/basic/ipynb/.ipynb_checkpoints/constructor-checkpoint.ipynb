{
 "cells": [
  {
   "cell_type": "code",
   "execution_count": null,
   "metadata": {
    "collapsed": true
   },
   "outputs": [],
   "source": [
    "要说明的是：var/val限定的是变量是否可读写，与可见性无关，即对外可见；public和private声明的才是可见性，但是在省略这些关键字时还是有默\n",
    "认值的，情况如下：\n",
    "\n",
    "如果只有var/val修饰，则字段总是对外可见的，即默认是public的\n",
    "如果连var/val也没有，则字段对外不可见，同时内部只读，不可改写，即默认是：private val\n",
    "第二条不适用于case class，case class的类参数在不指定val/var修饰时，会自动编译为public val，即对外只读，如果需要case class的字段\n",
    "外部可写，可以显式地指定var关键字！\n",
    "规则如下：\n",
    "\n",
    "对于var修饰的参数：外部可读/可改写 （实际上是：编译器为该类参数（字段）自动生成了getter和setter）\n",
    "对于val修饰的参数：外部可读/不可改写（实际上是：编译器为该类参数（字段）只生成了getter没有生成setter）\n",
    "对于private var修饰的参数：内部可读/可改写 （编译器不会为私有类参数（字段）自动生成getter和setter）\n",
    "对于private val修饰的参数：内部可读/不可改写 （编译器不会为该类参数（字段）自动生成getter和setter）\n",
    "\n",
    "\n",
    "\n"
   ]
  },
  {
   "cell_type": "code",
   "execution_count": null,
   "metadata": {
    "collapsed": true
   },
   "outputs": [],
   "source": []
  },
  {
   "cell_type": "code",
   "execution_count": 6,
   "metadata": {
    "collapsed": false
   },
   "outputs": [
    {
     "data": {
      "text/plain": [
       "defined \u001b[32mclass \u001b[36mPerson\u001b[0m"
      ]
     },
     "metadata": {},
     "output_type": "display_data"
    }
   ],
   "source": [
    "//1. scala构造函数，实现方式1\n",
    "\n",
    "class Person (fn: String, ln: String, p: Person) {\n",
    "    val lastName = ln\n",
    "    val firstName = fn\n",
    "    var spouse = p\n",
    "    \n",
    "    // 定义第二个构造函数\n",
    "    def this(fn: String, ln: String) = { this(fn, ln, null)}\n",
    "    \n",
    "    def introduction(): String = {\n",
    "        \"我的名字是, \" + lastName  + \" \" + firstName  +  (if (p != null) \" 对方的名字是, \" + p.lastName  \n",
    "                                                     + \" \" + p.firstName  + \"。\" else \"。\");  \n",
    "    }\n",
    "    \n",
    "}\n",
    "\n"
   ]
  },
  {
   "cell_type": "code",
   "execution_count": 7,
   "metadata": {
    "collapsed": false
   },
   "outputs": [
    {
     "data": {
      "text/plain": [
       "\u001b[36mp0\u001b[0m: cmd2.INSTANCE.$ref$cmd1.Person = cmd1$$user$Person@311f9604"
      ]
     },
     "metadata": {},
     "output_type": "display_data"
    }
   ],
   "source": [
    "val p0 = new Person(\"Fei\", \"Zhang\")"
   ]
  },
  {
   "cell_type": "code",
   "execution_count": 8,
   "metadata": {
    "collapsed": false
   },
   "outputs": [
    {
     "data": {
      "text/plain": [
       "\u001b[36mres3\u001b[0m: String = \u001b[32m\"我的名字是, Zhang Fei。\"\u001b[0m"
      ]
     },
     "metadata": {},
     "output_type": "display_data"
    }
   ],
   "source": [
    "p0.introduction"
   ]
  },
  {
   "cell_type": "code",
   "execution_count": 11,
   "metadata": {
    "collapsed": false
   },
   "outputs": [
    {
     "data": {
      "text/plain": [
       "\u001b[36mres4\u001b[0m: String = \u001b[32m\"Fei\"\u001b[0m"
      ]
     },
     "metadata": {},
     "output_type": "display_data"
    }
   ],
   "source": [
    "// 而且Scala对于调用方法的“.”符号，在不发生歧义的情况下可以替换为空格。但是，这里不能加上空的参数表()。\n",
    "p0 firstName //同p0.firstName等同  \n"
   ]
  },
  {
   "cell_type": "code",
   "execution_count": 12,
   "metadata": {
    "collapsed": false
   },
   "outputs": [
    {
     "data": {
      "text/plain": [
       "\u001b[36mres5\u001b[0m: cmd2.INSTANCE.$ref$cmd1.Person = null"
      ]
     },
     "metadata": {},
     "output_type": "display_data"
    }
   ],
   "source": [
    "p0 spouse //现在未婚，所以spouse的值为null  "
   ]
  },
  {
   "cell_type": "code",
   "execution_count": 15,
   "metadata": {
    "collapsed": false
   },
   "outputs": [
    {
     "ename": "",
     "evalue": "",
     "output_type": "error",
     "traceback": [
      "Compilation Failed",
      "\u001b[31mMain.scala:61: cmd2.INSTANCE.$ref$cmd1.Person does not take parameters",
      "p0.spouse()",
      "         ^\u001b[0m"
     ]
    }
   ],
   "source": [
    "p0.spouse() //注意，Scala中.m和.m()的含义不同  "
   ]
  },
  {
   "cell_type": "code",
   "execution_count": 17,
   "metadata": {
    "collapsed": false
   },
   "outputs": [
    {
     "data": {
      "text/plain": []
     },
     "metadata": {},
     "output_type": "display_data"
    }
   ],
   "source": [
    "p0 spouse = new Person(\"Chan\", \"Diao\", p0) //DiaoChan和ZhangFei结婚 "
   ]
  },
  {
   "cell_type": "code",
   "execution_count": 18,
   "metadata": {
    "collapsed": false
   },
   "outputs": [
    {
     "data": {
      "text/plain": [
       "\u001b[36mres9\u001b[0m: String = \u001b[32m\"Chan\"\u001b[0m"
      ]
     },
     "metadata": {},
     "output_type": "display_data"
    }
   ],
   "source": [
    "(p0 spouse) firstName //写成p0 spouse firstName就会出错  "
   ]
  },
  {
   "cell_type": "code",
   "execution_count": 19,
   "metadata": {
    "collapsed": false
   },
   "outputs": [
    {
     "data": {
      "text/plain": []
     },
     "metadata": {},
     "output_type": "display_data"
    }
   ],
   "source": [
    "p0 spouse = null //ZhangFei离婚  "
   ]
  },
  {
   "cell_type": "code",
   "execution_count": 20,
   "metadata": {
    "collapsed": false
   },
   "outputs": [
    {
     "data": {
      "text/plain": []
     },
     "metadata": {},
     "output_type": "display_data"
    }
   ],
   "source": [
    "p0 spouse = new Person(\"Shi\", \"Xi\", p0) //和XiShi再婚  "
   ]
  },
  {
   "cell_type": "code",
   "execution_count": 20,
   "metadata": {
    "collapsed": false
   },
   "outputs": [
    {
     "ename": "",
     "evalue": "",
     "output_type": "error",
     "traceback": [
      "incomplete"
     ]
    }
   ],
   "source": [
    "//2. scala构造函数，实现方式2\n",
    "class Person(val firstName: String, val lastName: String, var spouse: Person) {\n",
    "    def this(fn: String, ln: String) = this(fn, ln, null)\n",
    "    def introduction(): String = {\n",
    "        \"我的名字是, \" + lastName  + \" \" + firstName  +  (if (p != null) \" 对方的名字是, \" + p.lastName  \n",
    "                                                     + \" \" + p.firstName  + \"。\" else \"。\");  \n",
    "}\n"
   ]
  },
  {
   "cell_type": "code",
   "execution_count": 21,
   "metadata": {
    "collapsed": false
   },
   "outputs": [
    {
     "data": {
      "text/plain": [
       "\u001b[36mp1\u001b[0m: cmd12.INSTANCE.$ref$cmd1.Person = cmd1$$user$Person@4fe20db9"
      ]
     },
     "metadata": {},
     "output_type": "display_data"
    }
   ],
   "source": [
    "val p1 = new Person(\"Yu\", \"Guan\", new Person(\"ZheTian\", \"Wu\")) "
   ]
  },
  {
   "cell_type": "code",
   "execution_count": 22,
   "metadata": {
    "collapsed": false
   },
   "outputs": [
    {
     "data": {
      "text/plain": [
       "\u001b[36mres13\u001b[0m: String = \u001b[32m\"Guan\"\u001b[0m"
      ]
     },
     "metadata": {},
     "output_type": "display_data"
    }
   ],
   "source": [
    "p1.lastName "
   ]
  },
  {
   "cell_type": "code",
   "execution_count": 23,
   "metadata": {
    "collapsed": false
   },
   "outputs": [
    {
     "data": {
      "text/plain": [
       "\u001b[36mres14\u001b[0m: cmd12.INSTANCE.$ref$cmd1.Person = cmd1$$user$Person@192b8681"
      ]
     },
     "metadata": {},
     "output_type": "display_data"
    }
   ],
   "source": [
    "p1.spouse "
   ]
  },
  {
   "cell_type": "code",
   "execution_count": 27,
   "metadata": {
    "collapsed": false
   },
   "outputs": [
    {
     "data": {
      "text/plain": [
       "defined \u001b[32mclass \u001b[36mPerson\u001b[0m"
      ]
     },
     "metadata": {},
     "output_type": "display_data"
    }
   ],
   "source": [
    "//2. scala构造函数，实现方式2\n",
    "class Person(val firstName: String, val lastName: String, var spouse: Person) {\n",
    "    def this(fn: String, ln: String) = this(fn, ln, null)\n",
    "    def introduction(): String = {\n",
    "        \"我的名字是, \" + lastName  + \" \" + firstName  +  (if (spouse != null) \" 对方的名字是, \" + spouse.lastName  \n",
    "                                                     + \" \" + spouse.firstName  + \"。\" else \"。\"); \n",
    "    }\n",
    "        \n",
    "    // 上述程序中描述对象的字符串比较难解，下面就扩展一下类使他显示姓和名吧。任何对象的文字描述是由对象的最根类Any的\n",
    "    //toString:String方法来实现的。在各个类中使用自己的实现来覆盖这个方法就可以了，这里的显示格式为[姓:firstName \n",
    "    //名:lastName 配偶:没有或(姓:firstName 名:lastName)]。另外，Scala中覆盖父类的方法一定要加上override修饰符。\n",
    "    \n",
    "    override def toString: String = super.toString + \" [姓: \" + lastName + \" 名: \" + firstName + \" 配偶: \" + (if (spouse != null) \" (\"+ spouse.lastName + \",\" + spouse.firstName + \")\" else \"没有\") + \"]\" \n",
    "}"
   ]
  },
  {
   "cell_type": "code",
   "execution_count": 28,
   "metadata": {
    "collapsed": false
   },
   "outputs": [
    {
     "data": {
      "text/plain": [
       "\u001b[36mp1\u001b[0m: cmd16.INSTANCE.$ref$cmd15.Person = cmd15$$user$Person@584c9b9b [姓: Guan 名: Yu 配偶:  (Wu,ZheTian)]"
      ]
     },
     "metadata": {},
     "output_type": "display_data"
    }
   ],
   "source": [
    "val p1 = new Person(\"Yu\", \"Guan\", new Person(\"ZheTian\", \"Wu\"))"
   ]
  },
  {
   "cell_type": "code",
   "execution_count": 29,
   "metadata": {
    "collapsed": false
   },
   "outputs": [
    {
     "data": {
      "text/plain": [
       "\u001b[36mres17\u001b[0m: cmd16.INSTANCE.$ref$cmd15.Person = cmd15$$user$Person@584c9b9b [姓: Guan 名: Yu 配偶:  (Wu,ZheTian)]"
      ]
     },
     "metadata": {},
     "output_type": "display_data"
    }
   ],
   "source": [
    "p1"
   ]
  },
  {
   "cell_type": "code",
   "execution_count": null,
   "metadata": {
    "collapsed": true
   },
   "outputs": [],
   "source": [
    "class DBBase (private val dbUrl: String, private val user: String, private val password: String) {\n",
    "  \n",
    "}"
   ]
  },
  {
   "cell_type": "code",
   "execution_count": null,
   "metadata": {
    "collapsed": true
   },
   "outputs": [],
   "source": [
    "object DBBase {\n",
    "    def apply(dbUrl: => String, user: => String, password: => String ) = {\n",
    "        println(s\"$dbUrl $user $password\")\n",
    "    }\n",
    "}"
   ]
  },
  {
   "cell_type": "code",
   "execution_count": null,
   "metadata": {
    "collapsed": true
   },
   "outputs": [],
   "source": [
    "val db = DBBase(\"123\", \"345\", \"556\")"
   ]
  },
  {
   "cell_type": "code",
   "execution_count": null,
   "metadata": {
    "collapsed": true
   },
   "outputs": [],
   "source": []
  }
 ],
 "metadata": {
  "kernelspec": {
   "display_name": "Scala 2.10",
   "language": "scala210",
   "name": "scala210"
  },
  "language_info": {
   "codemirror_mode": "text/x-scala",
   "file_extension": "scala",
   "mimetype": "text/x-scala",
   "name": "scala210",
   "pygments_lexer": "scala",
   "version": "2.10.5"
  }
 },
 "nbformat": 4,
 "nbformat_minor": 0
}
